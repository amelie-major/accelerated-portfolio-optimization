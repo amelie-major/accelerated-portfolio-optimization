{
 "cells": [
  {
   "cell_type": "markdown",
   "id": "251a719e",
   "metadata": {},
   "source": [
    "# Assess the performance of an optimal portfolio over a historical period\n",
    "\n",
    "**Backtesting** - "
   ]
  }
 ],
 "metadata": {
  "language_info": {
   "name": "python"
  }
 },
 "nbformat": 4,
 "nbformat_minor": 5
}
