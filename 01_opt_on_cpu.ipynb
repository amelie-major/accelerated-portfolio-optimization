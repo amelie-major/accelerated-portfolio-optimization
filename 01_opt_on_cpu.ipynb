{
  "cells": [
    {
      "cell_type": "markdown",
      "id": "26d68be0",
      "metadata": {
        "id": "26d68be0"
      },
      "source": [
        "# Formulate the portfolio optimization problem and solve on CPU\n",
        "\n",
        "This notebook demonstrates how to optimize a portfolio using CVaR on a CPU, we leverage CLARABEL solver from CVXPY to solve the optimization problem.\n",
        "\n",
        "The steps include:\n",
        "\n",
        "1. **Configure CPU Solver Settings:** Define solver parameters for optimization\n",
        "2. **Solve the CVaR Optimization Problem:** Run the optimization\n",
        "3. **Display the optimization results:** Examine the optimized portfolio\n",
        "4. **Plot the optimized portfolio:** Visualize the allocation over the selected day range\n",
        "\n",
        "\n",
        "## Importing Required Libraries"
      ]
    },
    {
      "cell_type": "code",
      "execution_count": null,
      "id": "19c0f7a8",
      "metadata": {
        "id": "19c0f7a8"
      },
      "outputs": [],
      "source": [
        "print(\"Hello world\")"
      ]
    }
  ],
  "metadata": {
    "kernelspec": {
      "display_name": ".venv",
      "language": "python",
      "name": "python3"
    },
    "language_info": {
      "codemirror_mode": {
        "name": "ipython",
        "version": 3
      },
      "file_extension": ".py",
      "mimetype": "text/x-python",
      "name": "python",
      "nbconvert_exporter": "python",
      "pygments_lexer": "ipython3",
      "version": "3.8.2"
    },
    "colab": {
      "provenance": []
    }
  },
  "nbformat": 4,
  "nbformat_minor": 5
}