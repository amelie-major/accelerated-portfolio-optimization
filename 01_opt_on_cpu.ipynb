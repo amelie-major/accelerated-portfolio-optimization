{
 "cells": [
  {
   "cell_type": "markdown",
   "id": "26d68be0",
   "metadata": {},
   "source": [
    "# Formulate the portfolio optimization problem and solve on CPU\n",
    "\n",
    "This notebook demonstrates how to optimize a portfolio using CVaR on a CPU, we leverage CLARABEL solver from CVXPY to solve the optimization problem. \n",
    "\n",
    "The steps include:\n",
    "\n",
    "1. **Configure CPU Solver Settings:** Define solver parameters for optimization\n",
    "2. **Solve the CVaR Optimization Problem:** Run the optimization \n",
    "3. **Display the optimization results:** Examine the optimized portfolio\n",
    "4. **Plot the optimized portfolio:** Visualize the allocation over the selected day range\n",
    "\n",
    "\n",
    "## Importing Required Libraries"
   ]
  },
  {
   "cell_type": "code",
   "execution_count": 3,
   "id": "19c0f7a8",
   "metadata": {},
   "outputs": [
    {
     "ename": "ModuleNotFoundError",
     "evalue": "No module named 'cufolio'",
     "output_type": "error",
     "traceback": [
      "\u001b[0;31m---------------------------------------------------------------------------\u001b[0m",
      "\u001b[0;31mModuleNotFoundError\u001b[0m                       Traceback (most recent call last)",
      "Cell \u001b[0;32mIn[3], line 2\u001b[0m\n\u001b[1;32m      1\u001b[0m \u001b[38;5;28;01mimport\u001b[39;00m\u001b[38;5;250m \u001b[39m\u001b[38;5;21;01mos\u001b[39;00m\n\u001b[0;32m----> 2\u001b[0m \u001b[38;5;28;01mfrom\u001b[39;00m\u001b[38;5;250m \u001b[39m\u001b[38;5;21;01mcufolio\u001b[39;00m\u001b[38;5;250m \u001b[39m\u001b[38;5;28;01mimport\u001b[39;00m cvar_optimizer, cvar_utils, utils, backtest, porfolio\n\u001b[1;32m      4\u001b[0m \u001b[38;5;28;01mimport\u001b[39;00m\u001b[38;5;250m \u001b[39m\u001b[38;5;21;01mcvxpy\u001b[39;00m\u001b[38;5;250m \u001b[39m\u001b[38;5;28;01mas\u001b[39;00m\u001b[38;5;250m \u001b[39m\u001b[38;5;21;01mcp\u001b[39;00m\n\u001b[1;32m      5\u001b[0m \u001b[38;5;28;01mimport\u001b[39;00m\u001b[38;5;250m \u001b[39m\u001b[38;5;21;01mnumpy\u001b[39;00m\u001b[38;5;250m \u001b[39m\u001b[38;5;28;01mas\u001b[39;00m\u001b[38;5;250m \u001b[39m\u001b[38;5;21;01mnp\u001b[39;00m\n",
      "\u001b[0;31mModuleNotFoundError\u001b[0m: No module named 'cufolio'"
     ]
    }
   ],
   "source": [
    "import os\n",
    "from cufolio import cvar_optimizer, cvar_utils, utils, backtest, porfolio\n",
    "\n",
    "import cvxpy as cp\n",
    "import numpy as np\n",
    "import pandas as pd\n",
    "import seaborn as sns\n",
    "\n",
    "import solver_settings\n",
    "import warnings\n",
    "warnings.filterwarnings(\"ignore\")\n"
   ]
  },
  {
   "cell_type": "markdown",
   "id": "fec77afc",
   "metadata": {},
   "source": [
    "## Formulating the Optimization Problem\n",
    "\n",
    "$$ \\max_{\\mathbf{w}, t, \\mathbf{u}} \\quad \\mu^\\top \\mathbf{w} - \\lambda_{\\text{risk}} \\left( t + \\frac{1}{1 - \\alpha} \\mathbf{p}^\\top \\mathbf{u} \\right) $$\n",
    "\n",
    "Where:\n",
    "\n",
    "𝜇: vector of expected returns\n",
    "\n",
    "𝑤 : portfolio weights\n",
    "\n",
    "$𝜆_{risk}$: risk aversion coefficient\n",
    "\n",
    "𝛼\n",
    ": confidence level for CVaR\n",
    "\n",
    "𝑝\n",
    ": scenario probabilities\n",
    "\n",
    "𝑡\n",
    ": Value-at-Risk (VaR) threshold\n",
    "\n",
    "𝑢\n",
    ": CVaR auxiliary variables\n",
    "\n",
    "The constraints are:\n",
    "* Budget Constaint: $$\\mathbf{1}^\\top \\mathbf{w} = 1$$\n",
    "* CVaR auxiliary constraint: $$\\mathbf{u} \\geq -R \\mathbf{w} - t$$\n",
    "* Box constraints on weights and exposures: $$\\mathbf{w}^{\\min} \\leq \\mathbf{w} \\leq \\mathbf{w}^{\\max}$$\n",
    "$$\\mathbf{c}^{\\min} \\leq \\mathbf{c} \\leq \\mathbf{c}^{\\max}$$\n",
    "* Leverage constraint: $$\\|\\mathbf{w}\\|_1 \\leq L^{\\text{tar}}$$\n",
    "\n",
    "You can also account for a couple more additional constraints, including:\n",
    "\n",
    "* CVar limit: setting a strict upper bound on the CVar\n",
    "* Turnover constraint: restrict portfolio turnover by limiting deviations from existing portfolio\n",
    "\n",
    "## Instantiate Parameters and Optimizer objects\n",
    "\n",
    "Broadly, you want a high number of scenarios to make it perform optimally on a GPU\n",
    "### Parameters\n",
    "\n",
    "Portfolio Constraints\n",
    "\n",
    "* `w_min`, `w_max`: Minimum and maximum asset weights\n",
    "* `c_min`, `c_max`: Minimum and maximum cash holdings\n",
    "* `L_tar`: Leverage constraint\n",
    "\n",
    "Risk constraints:\n",
    "\n",
    "* \n",
    "\n",
    "\n",
    "\n"
   ]
  },
  {
   "cell_type": "code",
   "execution_count": null,
   "id": "79315347",
   "metadata": {},
   "outputs": [],
   "source": [
    "cvar_params = cvar_optimizer.CVaR_Parameters(\n",
    "w_min=-0.3, # Minimum asset weight allocation\n",
    "w_max=0.8, # Maximum asset weight allocation\n",
    "c_min=0.1, # Minimum cash holdings\n",
    "c_max=0.4, # Maximum cash holdings\n",
    "L_tar=1.6, # Leverage constraint (total long/short weight change)\n",
    "T_tar=None, # Turnover constraint (Limits portfolio deviation from an existing allocation)\n",
    "cvar_limit=None, # Maximum allowed Conditional Value-at-Risk (CVaR)\n",
    "risk_aversion=0.5, # Change to risk aversion levels (0 = maximize return subject to risk constraints)\n",
    "confidence=0.95, # Confidence level for CVaR calculation\n",
    "num_scen=10000, # Number of return scenarios to simulate\n",
    "fit_type= 'kde' # Return distribution estimation method ('kde' for kernel density estimation, 'no_fit' for historical returns)\n",
    ")"
   ]
  },
  {
   "cell_type": "markdown",
   "id": "a1475ce0",
   "metadata": {},
   "source": [
    "### Loading Returns Data"
   ]
  },
  {
   "cell_type": "code",
   "execution_count": null,
   "id": "955eb217",
   "metadata": {},
   "outputs": [
    {
     "ename": "NameError",
     "evalue": "name 'cvar_utils' is not defined",
     "output_type": "error",
     "traceback": [
      "\u001b[0;31m---------------------------------------------------------------------------\u001b[0m",
      "\u001b[0;31mNameError\u001b[0m                                 Traceback (most recent call last)",
      "Cell \u001b[0;32mIn[2], line 8\u001b[0m\n\u001b[1;32m      6\u001b[0m regime_dict \u001b[38;5;241m=\u001b[39m {\u001b[38;5;124m'\u001b[39m\u001b[38;5;124mname\u001b[39m\u001b[38;5;124m'\u001b[39m: \u001b[38;5;124m'\u001b[39m\u001b[38;5;124mrecent\u001b[39m\u001b[38;5;124m'\u001b[39m, \u001b[38;5;124m'\u001b[39m\u001b[38;5;124mrange\u001b[39m\u001b[38;5;124m'\u001b[39m: (\u001b[38;5;124m'\u001b[39m\u001b[38;5;124m2022-01-04\u001b[39m\u001b[38;5;124m'\u001b[39m, \u001b[38;5;124m'\u001b[39m\u001b[38;5;124m2024-07-07\u001b[39m\u001b[38;5;124m'\u001b[39m)}\n\u001b[1;32m      7\u001b[0m \u001b[38;5;66;03m# Compute returns dictionary (set device for KDE computation)\u001b[39;00m\n\u001b[0;32m----> 8\u001b[0m returns_dict \u001b[38;5;241m=\u001b[39m \u001b[43mcvar_utils\u001b[49m\u001b[38;5;241m.\u001b[39mcalculate_returns(\n\u001b[1;32m      9\u001b[0m     dataset_directory, regime_dict, return_type, cvar_params, device\u001b[38;5;241m=\u001b[39m\u001b[38;5;124m'\u001b[39m\u001b[38;5;124mCPU\u001b[39m\u001b[38;5;124m'\u001b[39m\n\u001b[1;32m     10\u001b[0m )\n",
      "\u001b[0;31mNameError\u001b[0m: name 'cvar_utils' is not defined"
     ]
    }
   ],
   "source": [
    "# Select dataset and regime information\n",
    "dataset_name = 'sp500' # Dataset with adjusted close prices\n",
    "dataset_directory = f'data/stock_data/{dataset_name}.csv'\n",
    "# Define return type and regime period\n",
    "return_type = 'LOG'\n",
    "regime_dict = {'name': 'recent', 'range': ('2022-01-04', '2024-07-07')}\n",
    "# Compute returns dictionary (set device for KDE computation)\n",
    "returns_dict = cvar_utils.calculate_returns(\n",
    "    dataset_directory, regime_dict, return_type, cvar_params, device='CPU'\n",
    ")"
   ]
  },
  {
   "cell_type": "markdown",
   "id": "140390f1",
   "metadata": {},
   "source": [
    "### Instantiate CVaR Optimizer\n",
    "Finally, we create CVaR optimizer object, which integrates the computed return data and optimization parameters"
   ]
  },
  {
   "cell_type": "code",
   "execution_count": null,
   "id": "217978d7",
   "metadata": {},
   "outputs": [],
   "source": [
    "# Instantiate CVaR optimization problem\n",
    "example_cvar_problem = cvar_optimizer.CVar(\n",
    "returns_dict=returns_dict, \n",
    "cvar_params=cvar_params\n",
    ")"
   ]
  },
  {
   "cell_type": "markdown",
   "id": "e1b56c7e",
   "metadata": {},
   "source": [
    "## Portfolio Optimization Using CVaR on CPU\n",
    "\n",
    "### Configure CPU solver settings and solve the CVaR optimization on CPU\n",
    "\n"
   ]
  },
  {
   "cell_type": "markdown",
   "id": "4fcf6bc4",
   "metadata": {},
   "source": [
    "The below code will output the optimized portfolio and suggest which trades to long and short in the test regime along with the objective value used to minimise relative risk. "
   ]
  },
  {
   "cell_type": "code",
   "execution_count": null,
   "id": "e50ccbd1",
   "metadata": {},
   "outputs": [],
   "source": [
    "# Configure CPU Solver Settings\n",
    "cpu_settings = {'solver': cp.CLARABEL, 'verbose': False}\n",
    "# Solve the CVaR Optimization Problem on CPU\n",
    "cpu_result, cpu_portfolio = example_cvar_problem.solve_optimization_problem(device='CPU', cpu_settings=cpu_settings)"
   ]
  }
 ],
 "metadata": {
  "kernelspec": {
   "display_name": ".venv",
   "language": "python",
   "name": "python3"
  },
  "language_info": {
   "codemirror_mode": {
    "name": "ipython",
    "version": 3
   },
   "file_extension": ".py",
   "mimetype": "text/x-python",
   "name": "python",
   "nbconvert_exporter": "python",
   "pygments_lexer": "ipython3",
   "version": "3.8.2"
  }
 },
 "nbformat": 4,
 "nbformat_minor": 5
}
