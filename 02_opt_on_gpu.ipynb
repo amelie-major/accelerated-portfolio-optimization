{
 "cells": [
  {
   "cell_type": "markdown",
   "id": "60e31f74",
   "metadata": {},
   "source": [
    "# Experience cuFOLIO, a GPU-accelerated portfolio optimization framework"
   ]
  },
  {
   "cell_type": "markdown",
   "id": "76ad5cdf",
   "metadata": {},
   "source": []
  }
 ],
 "metadata": {
  "language_info": {
   "name": "python"
  }
 },
 "nbformat": 4,
 "nbformat_minor": 5
}
